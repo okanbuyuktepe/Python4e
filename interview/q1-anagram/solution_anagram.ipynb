{
  "nbformat": 4,
  "nbformat_minor": 0,
  "metadata": {
    "colab": {
      "name": "solution_anagram.ipynb",
      "provenance": []
    },
    "kernelspec": {
      "name": "python3",
      "display_name": "Python 3"
    }
  },
  "cells": [
    {
      "cell_type": "code",
      "metadata": {
        "id": "Uje0ES0QjfZR"
      },
      "source": [
        "# Getting sentences from the user\n",
        "sentence1 = input('a: ') ; sentence2 = input('b: ')\n",
        "count1 = 0; count2 = 0\n",
        "\n",
        "dict1 = dict(); dict2 = dict()\n",
        "\n",
        "# create dictionaries for two sentences as key: character and value:# of character exist in the sentences\n",
        "for w in sentence1:\n",
        "  dict1[w] = dict1.get(w,0) + 1\n",
        "\n",
        "for w in sentence2:\n",
        "  dict2[w] = dict2.get(w,0) + 1 "
      ],
      "execution_count": null,
      "outputs": []
    },
    {
      "cell_type": "code",
      "metadata": {
        "id": "GP-n8QNRbtOS"
      },
      "source": [
        "# Find the different keys\n",
        "for key in dict1.keys():\n",
        "  if not key in dict2:    count1 +=1\n",
        "\n",
        "for key in dict2.keys():\n",
        "  if not key in dict1:    count2 +=1\n",
        "\n",
        "# Find the common keys and compare the values.\n",
        "common_keys = list(dict1.keys() & dict2.keys())\n",
        "\n",
        "for w in common_keys:\n",
        "  if (dict1[w] > dict2[w]):  count1 += dict1[w] - dict2[w]\n",
        "  if (dict2[w] > dict1[w]):  count2 += dict2[w] - dict1[w]"
      ],
      "execution_count": 80,
      "outputs": []
    },
    {
      "cell_type": "code",
      "metadata": {
        "id": "lltoohDbcLq0"
      },
      "source": [
        "if (count1 == 0) & (count2 == 0):\n",
        "  print('they are anagrams')\n",
        "else:\n",
        "  print('remove %d characters from \"%s\" and %d characters from \"%s\"'%(count1, sentence1, count2, sentence2))"
      ],
      "execution_count": null,
      "outputs": []
    }
  ]
}