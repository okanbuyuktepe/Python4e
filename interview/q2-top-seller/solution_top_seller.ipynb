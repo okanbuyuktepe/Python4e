{
  "nbformat": 4,
  "nbformat_minor": 0,
  "metadata": {
    "colab": {
      "name": "solution_top_seller.ipynb",
      "provenance": []
    },
    "kernelspec": {
      "name": "python3",
      "display_name": "Python 3"
    }
  },
  "cells": [
    {
      "cell_type": "code",
      "metadata": {
        "id": "nRVzvj1PADw2"
      },
      "source": [
        "# import the necessary libraries\n",
        "import pandas as pd\n",
        "import sys\n",
        "import os"
      ],
      "execution_count": 92,
      "outputs": []
    },
    {
      "cell_type": "code",
      "metadata": {
        "id": "Y6jlITV1AGyZ"
      },
      "source": [
        "# set the directory of csv files\n",
        "#os.chdir('D:/Users/okanb/Desktop/interview/q2-top-seller')\n",
        "\n",
        "# Load the csv files\n",
        "sales_dataframe = pd.read_csv('sales.csv', delimiter=',')\n",
        "product_dataframe = pd.read_csv('product.csv', delimiter=',')\n",
        "store_dataframe = pd.read_csv('store.csv', delimiter=',')"
      ],
      "execution_count": 93,
      "outputs": []
    },
    {
      "cell_type": "code",
      "metadata": {
        "id": "JHo0QDeHRNx3"
      },
      "source": [
        "start_date = str(); end_date= str(); rows = int()\n",
        "\n",
        "if __name__ == \"__main__\":\n",
        "  start_date = sys.argv[2]\n",
        "  end_date = sys.argv[4]\n",
        "  try:\n",
        "    rows = int(sys.argv[6])\n",
        "  except:\n",
        "    rows = 3"
      ],
      "execution_count": null,
      "outputs": []
    },
    {
      "cell_type": "code",
      "metadata": {
        "id": "560_9yL5kZTY"
      },
      "source": [
        "# For testing purpose\n",
        "#start_date = '2020-02-01'\n",
        "#end_date= '2020-06-30'\n",
        "#rows = 3"
      ],
      "execution_count": 109,
      "outputs": []
    },
    {
      "cell_type": "code",
      "metadata": {
        "id": "INxiC3hqAYwo"
      },
      "source": [
        "sales_dataframe['date'] = pd.to_datetime(sales_dataframe['date'])\n",
        "mask_bool = (sales_dataframe['date']  >= start_date) & (sales_dataframe['date']  <= end_date)\n",
        "sales_df = sales_dataframe.loc[mask_bool]"
      ],
      "execution_count": 110,
      "outputs": []
    },
    {
      "cell_type": "code",
      "metadata": {
        "id": "GuJmf2gPIVg6"
      },
      "source": [
        "product_dict = dict() ; store_dict = dict()\n",
        "\n",
        "for i in range(len(sales_df)):\n",
        "  product_dict[sales_df.iloc[i]['product']] = product_dict.get(sales_df.iloc[i]['product'], 0) + sales_df.iloc[i]['quantity']\n",
        "\n",
        "for i in range(len(sales_df)):\n",
        "  store_dict[sales_df.iloc[i]['store']] = store_dict.get(sales_df.iloc[i]['store'], 0) + sales_df.iloc[i]['quantity']\n"
      ],
      "execution_count": 111,
      "outputs": []
    },
    {
      "cell_type": "code",
      "metadata": {
        "id": "wcnMVCVDCI3X"
      },
      "source": [
        "list_quantity = list()\n",
        "for i in range(0, len(product_dataframe)):\n",
        "  list_quantity.append(product_dict[product_dataframe.loc[i, 'id']])"
      ],
      "execution_count": 112,
      "outputs": []
    },
    {
      "cell_type": "code",
      "metadata": {
        "id": "Rjycaua4FEtN"
      },
      "source": [
        "product_df = product_dataframe.copy()\n",
        "product_df['quantity'] = list_quantity\n",
        "product_df.sort_values(by='quantity', ascending=False, inplace=True)\n",
        "#print(product_df)"
      ],
      "execution_count": 113,
      "outputs": []
    },
    {
      "cell_type": "code",
      "metadata": {
        "id": "6xbU77urpSSv"
      },
      "source": [
        "product_series = product_df.groupby('quantity').quantity.count().sort_index()\n",
        "pr_dict = dict(product_series)\n",
        "df = pd.DataFrame(list(pr_dict.items()), columns=['name', 'count'])\n",
        "df.sort_values(by='name', ascending=False, inplace=True)\n",
        "df.reset_index(inplace=True)\n",
        "\n",
        "count = int()\n",
        "for i in range(rows):\n",
        "  count += df['count'][i]"
      ],
      "execution_count": 114,
      "outputs": []
    },
    {
      "cell_type": "code",
      "metadata": {
        "id": "f7rx2AQA7uDT",
        "outputId": "4c47096e-b288-45b1-84aa-cf4b459842ac",
        "colab": {
          "base_uri": "https://localhost:8080/",
          "height": 119
        }
      },
      "source": [
        "print('-- top seller product --')\n",
        "print(product_df.iloc[range(0, count), [1, 3]].to_string(index=False))"
      ],
      "execution_count": 115,
      "outputs": [
        {
          "output_type": "stream",
          "text": [
            "-- top seller product --\n",
            "  name  quantity\n",
            " p-103        33\n",
            " p-102        24\n",
            " p-110        24\n",
            " p-109        23\n"
          ],
          "name": "stdout"
        }
      ]
    },
    {
      "cell_type": "code",
      "metadata": {
        "id": "JJ2v8waOMs39"
      },
      "source": [
        "list_quantity = list()\n",
        "for i in range(len(store_dataframe)):\n",
        "  list_quantity.append(store_dict[store_dataframe.loc[i, 'id']])"
      ],
      "execution_count": 116,
      "outputs": []
    },
    {
      "cell_type": "code",
      "metadata": {
        "id": "B22qY-G6O49H"
      },
      "source": [
        "store_df = store_dataframe.copy()\n",
        "store_df['quantity'] = list_quantity\n",
        "store_df.sort_values(by='quantity', ascending=False, inplace=True)\n",
        "#print(store_df)"
      ],
      "execution_count": 117,
      "outputs": []
    },
    {
      "cell_type": "code",
      "metadata": {
        "id": "YWN58DcQvIUE"
      },
      "source": [
        "store_series = store_df.groupby('quantity').quantity.count().sort_index()\n",
        "st_dict = dict(store_series)\n",
        "df = pd.DataFrame(list(st_dict.items()), columns=['name', 'count'])\n",
        "df.sort_values(by='name', ascending=False, inplace=True)\n",
        "df.reset_index(inplace=True)\n",
        "\n",
        "count = int()\n",
        "for i in range(rows):\n",
        "  count += df['count'][i]"
      ],
      "execution_count": 118,
      "outputs": []
    },
    {
      "cell_type": "code",
      "metadata": {
        "id": "ECRXibga_iK8",
        "outputId": "2badec7c-84a4-4a58-acbe-9dbdd7d48ad1",
        "colab": {
          "base_uri": "https://localhost:8080/",
          "height": 119
        }
      },
      "source": [
        "print('-- top seller store --')\n",
        "print(store_df.iloc[range(0, count), [1, 3]].to_string(index=False))"
      ],
      "execution_count": 119,
      "outputs": [
        {
          "output_type": "stream",
          "text": [
            "-- top seller store --\n",
            "name  quantity\n",
            " s-3        42\n",
            " s-2        36\n",
            " s-7        36\n",
            " s-4        30\n"
          ],
          "name": "stdout"
        }
      ]
    },
    {
      "cell_type": "code",
      "metadata": {
        "id": "qU0vp4rRMr8l"
      },
      "source": [
        "brand_dict = dict()\n",
        "for i in range(len(product_df)):\n",
        "  brand_dict[product_df.iloc[i]['brand']] = brand_dict.get(product_df.iloc[i]['brand'], 0) + product_df.iloc[i]['quantity']\n",
        "#print(brand_dict)"
      ],
      "execution_count": 120,
      "outputs": []
    },
    {
      "cell_type": "code",
      "metadata": {
        "id": "EHBiRm5hDnZo",
        "outputId": "d33d7b41-3463-433b-9a7d-0818564acdcf",
        "colab": {
          "base_uri": "https://localhost:8080/",
          "height": 102
        }
      },
      "source": [
        "brand_df = pd.DataFrame(list(brand_dict.items()), columns=['brand', 'quantity'])\n",
        "brand_df.sort_values(by='quantity', ascending=False, inplace=True)\n",
        "\n",
        "brand_series = brand_df.groupby('quantity').quantity.count().sort_index()\n",
        "br_dict = dict(brand_series)\n",
        "df = pd.DataFrame(list(br_dict.items()), columns=['name', 'count'])\n",
        "df.sort_values(by='name', ascending=False, inplace=True)\n",
        "df.reset_index(inplace=True)\n",
        "\n",
        "count = int()\n",
        "for i in range(rows):\n",
        "  count += df['count'][i]\n",
        "\n",
        "print('-- top seller brand --')\n",
        "print(brand_df.iloc[range(0, count), [0, 1]].to_string(index=False))"
      ],
      "execution_count": 121,
      "outputs": [
        {
          "output_type": "stream",
          "text": [
            "-- top seller brand --\n",
            "    brand  quantity\n",
            " yoyodyne       100\n",
            "     acme        65\n",
            "     duff        45\n"
          ],
          "name": "stdout"
        }
      ]
    },
    {
      "cell_type": "code",
      "metadata": {
        "id": "KoIKbMAEPBfK"
      },
      "source": [
        "city_dict = dict()\n",
        "for i in range(0 , len(store_df)):\n",
        "  city_dict[store_df.iloc[i]['city']] = city_dict.get(store_df.iloc[i]['city'], 0) + store_df.iloc[i]['quantity']\n",
        "#print(city_dict)"
      ],
      "execution_count": 122,
      "outputs": []
    },
    {
      "cell_type": "code",
      "metadata": {
        "id": "GDVQ8Eq-FRId",
        "outputId": "5cefb459-840e-43ff-bcc0-1b0c53718472",
        "colab": {
          "base_uri": "https://localhost:8080/",
          "height": 102
        }
      },
      "source": [
        "city_df = pd.DataFrame(list(city_dict.items()), columns=['city', 'quantity'])\n",
        "city_df.sort_values(by='quantity', ascending=False, inplace=True)\n",
        "\n",
        "city_series = brand_df.groupby('quantity').quantity.count().sort_index()\n",
        "cty_dict = dict(city_series)\n",
        "df = pd.DataFrame(list(cty_dict.items()), columns=['name', 'count'])\n",
        "df.sort_values(by='name', ascending=False, inplace=True)\n",
        "df.reset_index(inplace=True)\n",
        "\n",
        "count = int()\n",
        "for i in range(rows):\n",
        "  count += df['count'][i]\n",
        "\n",
        "print('-- top seller city --')\n",
        "print(city_df.iloc[range(0, count), [0, 1]].to_string(index=False))"
      ],
      "execution_count": 123,
      "outputs": [
        {
          "output_type": "stream",
          "text": [
            "-- top seller city --\n",
            "      city  quantity\n",
            "    gotham       108\n",
            " coruscant        78\n",
            "      zion        24\n"
          ],
          "name": "stdout"
        }
      ]
    },
    {
      "cell_type": "code",
      "metadata": {
        "id": "OdtdlhvFO1vw"
      },
      "source": [
        ""
      ],
      "execution_count": null,
      "outputs": []
    }
  ]
}