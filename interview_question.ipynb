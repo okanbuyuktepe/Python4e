{
  "nbformat": 4,
  "nbformat_minor": 0,
  "metadata": {
    "colab": {
      "name": "interview_question.ipynb",
      "provenance": [],
      "authorship_tag": "ABX9TyMBySucNHZQVs1FIVnw/jng",
      "include_colab_link": true
    },
    "kernelspec": {
      "name": "python3",
      "display_name": "Python 3"
    }
  },
  "cells": [
    {
      "cell_type": "markdown",
      "metadata": {
        "id": "view-in-github",
        "colab_type": "text"
      },
      "source": [
        "<a href=\"https://colab.research.google.com/github/okanbuyuktepe/Python4e/blob/master/interview_question.ipynb\" target=\"_parent\"><img src=\"https://colab.research.google.com/assets/colab-badge.svg\" alt=\"Open In Colab\"/></a>"
      ]
    },
    {
      "cell_type": "code",
      "metadata": {
        "id": "EO9tatVgD8I3",
        "outputId": "56c5ca66-230e-42e0-9497-137959153d84",
        "colab": {
          "base_uri": "https://localhost:8080/",
          "height": 51
        }
      },
      "source": [
        "data = 'Mr John Smith       ,13   '\n",
        "pos = data.find(',')\n",
        "lenght = int(data[pos+1:])\n",
        "text = data[:pos]\n",
        "print(lenght)\n",
        "print(text)"
      ],
      "execution_count": null,
      "outputs": [
        {
          "output_type": "stream",
          "text": [
            "13\n",
            "Mr John Smith       \n"
          ],
          "name": "stdout"
        }
      ]
    },
    {
      "cell_type": "code",
      "metadata": {
        "id": "Xew4yV8GE4Cs",
        "outputId": "372b6842-6def-42fc-ed9c-3335a6aa42b9",
        "colab": {
          "base_uri": "https://localhost:8080/",
          "height": 34
        }
      },
      "source": [
        "ntext = str()\n",
        "for l in range(lenght):\n",
        "  if (text[l]==' '):\n",
        "    ntext+= '--'\n",
        "  else:\n",
        "    ntext+=text[l]\n",
        "\n",
        "print(ntext)"
      ],
      "execution_count": null,
      "outputs": [
        {
          "output_type": "stream",
          "text": [
            "Mr--John--Smith\n"
          ],
          "name": "stdout"
        }
      ]
    },
    {
      "cell_type": "code",
      "metadata": {
        "id": "aL-tEQhG4RmX",
        "outputId": "88b7f2de-ff9a-4e15-bafe-bf33d9cbcef5",
        "colab": {
          "base_uri": "https://localhost:8080/",
          "height": 51
        }
      },
      "source": [
        "# Use words.txt as the file name\n",
        "fname = input(\"Enter file name: \")\n",
        "try:\n",
        "    fh = open(fname)\n",
        "except:\n",
        "    print('error')\n",
        "    quit()\n",
        "\n",
        "for line in fh:\n",
        "  line_Up = line.upper()\n",
        "  print(line_Up.rstrip())"
      ],
      "execution_count": null,
      "outputs": [
        {
          "output_type": "stream",
          "text": [
            "Enter file name: s\n",
            "error\n"
          ],
          "name": "stdout"
        }
      ]
    },
    {
      "cell_type": "code",
      "metadata": {
        "id": "Si57ChbDYo0J",
        "outputId": "481b09a8-eac4-4ab4-c58e-a4d21d7c2194",
        "colab": {
          "base_uri": "https://localhost:8080/",
          "height": 51
        }
      },
      "source": [
        "# Use the file name mbox-short.txt as the file name\n",
        "fname = input(\"Enter file name: \")\n",
        "try:\n",
        "    fh = open(fname)\n",
        "except:\n",
        "    print(error)\n",
        "    quit()\n",
        "    \n",
        "count = 0\n",
        "all_num   = 0.0\n",
        "for line in fh:\n",
        "    if not line.startswith(\"X-DSPAM-Confidence:\"):\n",
        "        continue\n",
        "    count+=1\n",
        "    pos = line.find(':')\n",
        "    num = float(line[pos+1:].lstrip())\n",
        "    all_num+=num\n",
        "    \n",
        "avg = all_num/count\n",
        "print('Average spam confidence:', avg)\n"
      ],
      "execution_count": null,
      "outputs": [
        {
          "output_type": "stream",
          "text": [
            "Enter file name: mbox-short.txt\n",
            "Average spam confidence: 0.7507185185185187\n"
          ],
          "name": "stdout"
        }
      ]
    },
    {
      "cell_type": "code",
      "metadata": {
        "id": "TvJIf73hUUhp",
        "outputId": "d5cdb5d3-557f-4e05-b3d5-3e3e8cc60d4a",
        "colab": {
          "base_uri": "https://localhost:8080/",
          "height": 71
        }
      },
      "source": [
        "x = 'aec'\n",
        "print(dir(x))\n",
        "print (x)"
      ],
      "execution_count": null,
      "outputs": [
        {
          "output_type": "stream",
          "text": [
            "['__add__', '__class__', '__contains__', '__delattr__', '__dir__', '__doc__', '__eq__', '__format__', '__ge__', '__getattribute__', '__getitem__', '__getnewargs__', '__gt__', '__hash__', '__init__', '__init_subclass__', '__iter__', '__le__', '__len__', '__lt__', '__mod__', '__mul__', '__ne__', '__new__', '__reduce__', '__reduce_ex__', '__repr__', '__rmod__', '__rmul__', '__setattr__', '__sizeof__', '__str__', '__subclasshook__', 'capitalize', 'casefold', 'center', 'count', 'encode', 'endswith', 'expandtabs', 'find', 'format', 'format_map', 'index', 'isalnum', 'isalpha', 'isdecimal', 'isdigit', 'isidentifier', 'islower', 'isnumeric', 'isprintable', 'isspace', 'istitle', 'isupper', 'join', 'ljust', 'lower', 'lstrip', 'maketrans', 'partition', 'replace', 'rfind', 'rindex', 'rjust', 'rpartition', 'rsplit', 'rstrip', 'split', 'splitlines', 'startswith', 'strip', 'swapcase', 'title', 'translate', 'upper', 'zfill']\n",
            "aec\n"
          ],
          "name": "stdout"
        }
      ]
    },
    {
      "cell_type": "code",
      "metadata": {
        "id": "-6SGxgXsUawz",
        "outputId": "cfe7b383-7ac0-43d3-dfd3-f9107b9dbb02",
        "colab": {
          "base_uri": "https://localhost:8080/",
          "height": 71
        }
      },
      "source": [
        "fname = input(\"Enter file name: \")\n",
        "try:\n",
        "  fh = open(fname)\n",
        "except:\n",
        "  print('error!')\n",
        "    \n",
        "lst = list()\n",
        "lst_unique = list()\n",
        "\n",
        "for line in fh:\n",
        "  lst = line.split()\n",
        "  for l in lst:\n",
        "    if l not in lst_unique:\n",
        "      lst_unique.append(l)\n",
        "\n",
        "lst_unique.sort()\n",
        "\n",
        "print(lst_unique)\n"
      ],
      "execution_count": null,
      "outputs": [
        {
          "output_type": "stream",
          "text": [
            "Enter file name: romeo.txt\n",
            "['Arise', 'But', 'It', 'Juliet', 'Who', 'already', 'and', 'breaks', 'east', 'envious', 'fair', 'grief', 'is', 'kill', 'light', 'moon', 'pale', 'sick', 'soft', 'sun', 'the', 'through', 'what', 'window', 'with', 'yonder']\n"
          ],
          "name": "stdout"
        }
      ]
    },
    {
      "cell_type": "code",
      "metadata": {
        "id": "vGg_G-mggZhq",
        "outputId": "7956764e-011a-462e-eaf3-4decda53ed9c",
        "colab": {
          "base_uri": "https://localhost:8080/",
          "height": 238
        }
      },
      "source": [
        "fname = input('Enter file name :')\n",
        "try:\n",
        "  fh = open(fname)\n",
        "except:\n",
        "  print('error!')\n",
        "  quit()\n",
        "\n",
        "lst = list()\n",
        "lst_domain = list()\n",
        "count = 0\n",
        "for line in fh:\n",
        "  if not line.startswith('From:') : continue\n",
        "  \n",
        "  lst = line.split()\n",
        "  #lst = lst[1].split('@')\n",
        "  if lst[1] not in lst_domain:\n",
        "    count+=1\n",
        "    lst_domain.append(lst[1])\n",
        "\n",
        "for l in lst_domain:\n",
        "  print(l)\n",
        "\n",
        "print(\"There were\", count, \"lines in the file with From as the first word\")\n",
        "\n",
        "\n"
      ],
      "execution_count": null,
      "outputs": [
        {
          "output_type": "stream",
          "text": [
            "Enter file name :mbox-short.txt\n",
            "stephen.marquard@uct.ac.za\n",
            "louis@media.berkeley.edu\n",
            "zqian@umich.edu\n",
            "rjlowe@iupui.edu\n",
            "cwen@iupui.edu\n",
            "gsilver@umich.edu\n",
            "wagnermr@iupui.edu\n",
            "antranig@caret.cam.ac.uk\n",
            "gopal.ramasammycook@gmail.com\n",
            "david.horwitz@uct.ac.za\n",
            "ray@media.berkeley.edu\n",
            "There were 11 lines in the file with From as the first word\n"
          ],
          "name": "stdout"
        }
      ]
    },
    {
      "cell_type": "code",
      "metadata": {
        "id": "TUuVdLWPymru",
        "outputId": "77727a21-c512-4813-c62c-2bb68d9796a5",
        "colab": {
          "base_uri": "https://localhost:8080/",
          "height": 204
        }
      },
      "source": [
        "# dictionary\n",
        "x = dict()\n",
        "\n",
        "x = {'chunk':1, 'fred':2, 'john':3}\n",
        "print(list(x))\n",
        "print(x.keys())\n",
        "print(x.values())\n",
        "print(x.items()) # list of key-value pair\n",
        "\n",
        "for key in x:\n",
        "  print(key)\n",
        "\n",
        "for a,b in x.items():\n",
        "  print(a,b)\n",
        "\n",
        "\n",
        "x['okan'] = x.get('okan',0) +1 # if 'okan' is exist, then increase the count, \n",
        "                               # otherwise, create it\n",
        "print(x)"
      ],
      "execution_count": null,
      "outputs": [
        {
          "output_type": "stream",
          "text": [
            "['chunk', 'fred', 'john']\n",
            "dict_keys(['chunk', 'fred', 'john'])\n",
            "dict_values([1, 2, 3])\n",
            "dict_items([('chunk', 1), ('fred', 2), ('john', 3)])\n",
            "chunk\n",
            "fred\n",
            "john\n",
            "chunk 1\n",
            "fred 2\n",
            "john 3\n",
            "{'chunk': 1, 'fred': 2, 'john': 3, 'okan': 1}\n"
          ],
          "name": "stdout"
        }
      ]
    },
    {
      "cell_type": "markdown",
      "metadata": {
        "id": "WiI7hI9sAuoM"
      },
      "source": [
        "\n",
        "9.4 Write a program to read through the mbox-short.txt and figure out who has sent the greatest number of mail messages. The program looks for 'From ' lines and takes the second word of those lines as the person who sent the mail. The program creates a Python dictionary that maps the sender's mail address to a count of the number of times they appear in the file. After the dictionary is produced, the program reads through the dictionary using a maximum loop to find the most prolific committer.\n"
      ]
    },
    {
      "cell_type": "code",
      "metadata": {
        "id": "mAw7vIPmAqdF"
      },
      "source": [
        "name = input(\"Enter file:\")\n",
        "if len(name) < 1 : name = \"mbox-short.txt\"\n",
        "\n",
        "try:\n",
        "    handle = open(name)\n",
        "except:\n",
        "    print('error!')\n",
        "    quit()\n",
        "    \n",
        "    \n",
        "counts = dict()\n",
        "for lines in handle:\n",
        "    if not lines.startswith('From:'):continue\n",
        "    words = lines.split()\n",
        "    counts[words[1]] = counts.get(words[1],0) +1\n",
        "        \n",
        "bigword = None\n",
        "bigcount = None\n",
        "\n",
        "for word,count in counts.items():\n",
        "    if bigcount is None or bigcount < count:\n",
        "        bigword = word\n",
        "        bigcount = count\n",
        "\n",
        "print(bigword,bigcount)"
      ],
      "execution_count": null,
      "outputs": []
    },
    {
      "cell_type": "code",
      "metadata": {
        "id": "1l-zzZ47YfId",
        "outputId": "2e3ee043-68be-41db-c982-34c72d5ab500",
        "colab": {
          "base_uri": "https://localhost:8080/",
          "height": 68
        }
      },
      "source": [
        "# tuples are unmodified list (limited)\n",
        "\n",
        "x = (1,2,3)\n",
        "print(x[2])\n",
        "print(x)\n",
        "print(max(x))"
      ],
      "execution_count": null,
      "outputs": [
        {
          "output_type": "stream",
          "text": [
            "3\n",
            "(1, 2, 3)\n",
            "3\n"
          ],
          "name": "stdout"
        }
      ]
    },
    {
      "cell_type": "code",
      "metadata": {
        "id": "xRLK1KCG0iAk",
        "outputId": "069bbb67-c00f-4cc7-b223-bd59e4334025",
        "colab": {
          "base_uri": "https://localhost:8080/",
          "height": 68
        }
      },
      "source": [
        "for iter in x:\n",
        "  print(iter)"
      ],
      "execution_count": null,
      "outputs": [
        {
          "output_type": "stream",
          "text": [
            "1\n",
            "2\n",
            "3\n"
          ],
          "name": "stdout"
        }
      ]
    },
    {
      "cell_type": "code",
      "metadata": {
        "id": "TNsgVXXWZKIO",
        "outputId": "7e301eb7-8039-4ac4-db85-a9da36c0a8f1",
        "colab": {
          "base_uri": "https://localhost:8080/",
          "height": 578
        }
      },
      "source": [
        "t = tuple()\n",
        "dir(t)"
      ],
      "execution_count": null,
      "outputs": [
        {
          "output_type": "execute_result",
          "data": {
            "text/plain": [
              "['__add__',\n",
              " '__class__',\n",
              " '__contains__',\n",
              " '__delattr__',\n",
              " '__dir__',\n",
              " '__doc__',\n",
              " '__eq__',\n",
              " '__format__',\n",
              " '__ge__',\n",
              " '__getattribute__',\n",
              " '__getitem__',\n",
              " '__getnewargs__',\n",
              " '__gt__',\n",
              " '__hash__',\n",
              " '__init__',\n",
              " '__init_subclass__',\n",
              " '__iter__',\n",
              " '__le__',\n",
              " '__len__',\n",
              " '__lt__',\n",
              " '__mul__',\n",
              " '__ne__',\n",
              " '__new__',\n",
              " '__reduce__',\n",
              " '__reduce_ex__',\n",
              " '__repr__',\n",
              " '__rmul__',\n",
              " '__setattr__',\n",
              " '__sizeof__',\n",
              " '__str__',\n",
              " '__subclasshook__',\n",
              " 'count',\n",
              " 'index']"
            ]
          },
          "metadata": {
            "tags": []
          },
          "execution_count": 5
        }
      ]
    },
    {
      "cell_type": "code",
      "metadata": {
        "id": "5IcloZ0TZ3Hy"
      },
      "source": [
        "# tuples are simpler and  more efficient in terms of memory usage and performance than list\n",
        "# so in our program when we are making \"temporary variables\", we prefer tuples\n",
        "# over list"
      ],
      "execution_count": null,
      "outputs": []
    },
    {
      "cell_type": "code",
      "metadata": {
        "id": "UA0teVxcZlxT",
        "outputId": "468df1c6-9a1f-4a07-cfa3-51dd023e49ad",
        "colab": {
          "base_uri": "https://localhost:8080/",
          "height": 34
        }
      },
      "source": [
        "# tuple assignment\n",
        "x , y = (4,5)\n",
        "print(y)"
      ],
      "execution_count": null,
      "outputs": [
        {
          "output_type": "stream",
          "text": [
            "5\n"
          ],
          "name": "stdout"
        }
      ]
    },
    {
      "cell_type": "code",
      "metadata": {
        "id": "ecJZRjkXamqG",
        "outputId": "a938ec56-5eee-4ecb-900c-821751700a81",
        "colab": {
          "base_uri": "https://localhost:8080/",
          "height": 51
        }
      },
      "source": [
        "x = {'a':1, 'b':2, 'c':3}\n",
        "\n",
        "lst = []\n",
        "# to sort the dictionary by value instead of key:\n",
        "for k,v in x.items():\n",
        "  lst.append((v,k))\n",
        "\n",
        "print(lst)\n",
        "\n",
        "# now call the sort function\n",
        "tmp = sorted(lst, reverse=True) # from high to low\n",
        "print(tmp)"
      ],
      "execution_count": null,
      "outputs": [
        {
          "output_type": "stream",
          "text": [
            "[(1, 'a'), (2, 'b'), (3, 'c')]\n",
            "[(3, 'c'), (2, 'b'), (1, 'a')]\n"
          ],
          "name": "stdout"
        }
      ]
    },
    {
      "cell_type": "code",
      "metadata": {
        "id": "aBC0jDtAtYLb",
        "outputId": "f3d707b4-401c-4f66-95c2-b968a227e633",
        "colab": {
          "base_uri": "https://localhost:8080/",
          "height": 241
        }
      },
      "source": [
        "# The top 10 most common words\n",
        "\n",
        "try:\n",
        "  fhand = open('romeo.txt')\n",
        "except:\n",
        "  print('error!')\n",
        "  quit()\n",
        "\n",
        "counts = dict()\n",
        "for line in fhand:\n",
        "  words = line.split()\n",
        "  for word in words:\n",
        "    counts[word] = counts.get(word,0) + 1\n",
        "\n",
        "lst = list()\n",
        "for k,v in counts.items():\n",
        "  lst.append((v,k))\n",
        "\n",
        "lst = sorted(lst, reverse=True)\n",
        "for val,key in lst[:10]:\n",
        "  print(key,val)"
      ],
      "execution_count": null,
      "outputs": [
        {
          "output_type": "stream",
          "text": [
            "[(1, 'But'), (1, 'soft'), (1, 'what'), (1, 'light'), (1, 'through'), (1, 'yonder'), (1, 'window'), (1, 'breaks'), (1, 'It'), (3, 'is'), (3, 'the'), (1, 'east'), (3, 'and'), (1, 'Juliet'), (2, 'sun'), (1, 'Arise'), (1, 'fair'), (1, 'kill'), (1, 'envious'), (1, 'moon'), (1, 'Who'), (1, 'already'), (1, 'sick'), (1, 'pale'), (1, 'with'), (1, 'grief')]\n",
            "[(1, 'But')]\n",
            "the 3\n",
            "is 3\n",
            "and 3\n",
            "sun 2\n",
            "yonder 1\n",
            "with 1\n",
            "window 1\n",
            "what 1\n",
            "through 1\n",
            "soft 1\n"
          ],
          "name": "stdout"
        }
      ]
    },
    {
      "cell_type": "code",
      "metadata": {
        "id": "lc7fkbfV67ch",
        "outputId": "dfc8672d-bb46-494e-c9aa-8ccab37a61ca",
        "colab": {
          "base_uri": "https://localhost:8080/",
          "height": 34
        }
      },
      "source": [
        "# the shorter version : List comprehension\n",
        "# creates a dynamic list\n",
        "c = {'a':1, 'b':2, 'c':3}\n",
        "print(sorted([(v,k) for k,v in c.items()]))"
      ],
      "execution_count": null,
      "outputs": [
        {
          "output_type": "stream",
          "text": [
            "[(1, 'a'), (2, 'b'), (3, 'c')]\n"
          ],
          "name": "stdout"
        }
      ]
    },
    {
      "cell_type": "code",
      "metadata": {
        "id": "K7ElAmOYADw4",
        "outputId": "60bd9019-5b7b-4edb-997a-9673a25b365d",
        "colab": {
          "base_uri": "https://localhost:8080/",
          "height": 34
        }
      },
      "source": [
        "days = ('Mon', 'Tue', 'Wed', 'Thu', 'Fri', 'Sat', 'Sun')\n",
        "print(days[2])"
      ],
      "execution_count": null,
      "outputs": [
        {
          "output_type": "stream",
          "text": [
            "Wed\n"
          ],
          "name": "stdout"
        }
      ]
    },
    {
      "cell_type": "code",
      "metadata": {
        "id": "umi0WqmOAFdC",
        "outputId": "de038e83-9ed7-451f-d8c9-e028569b128d",
        "colab": {
          "base_uri": "https://localhost:8080/",
          "height": 238
        }
      },
      "source": [
        "name = input(\"Enter file:\")\n",
        "if len(name) < 1 : name = \"mbox-short.txt\"\n",
        "try:\n",
        "    handle = open(name)\n",
        "except:\n",
        "    print('error!')\n",
        "    quit()\n",
        "\n",
        "counts = dict()\n",
        "for line in handle:\n",
        "    if not line.startswith('From '):continue\n",
        "    lst = line.split()\n",
        "    lst = lst[5].rstrip()\n",
        "    word = lst.split(':')\n",
        "    counts[word[0]] = counts.get(word[0],0) +1\n",
        "    \n",
        "tmp = sorted((v,k) for v,k in counts.items())\n",
        "for v, k in tmp:\n",
        "    print(v,k)"
      ],
      "execution_count": null,
      "outputs": [
        {
          "output_type": "stream",
          "text": [
            "Enter file:\n",
            "04 3\n",
            "06 1\n",
            "07 1\n",
            "09 2\n",
            "10 3\n",
            "11 6\n",
            "14 1\n",
            "15 2\n",
            "16 4\n",
            "17 2\n",
            "18 1\n",
            "19 1\n"
          ],
          "name": "stdout"
        }
      ]
    },
    {
      "cell_type": "code",
      "metadata": {
        "id": "6-CbSQL8H2tT"
      },
      "source": [
        ""
      ],
      "execution_count": null,
      "outputs": []
    }
  ]
}