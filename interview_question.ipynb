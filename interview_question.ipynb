{
  "nbformat": 4,
  "nbformat_minor": 0,
  "metadata": {
    "colab": {
      "name": "interview_question.ipynb",
      "provenance": [],
      "toc_visible": true
    },
    "kernelspec": {
      "name": "python3",
      "display_name": "Python 3"
    }
  },
  "cells": [
    {
      "cell_type": "code",
      "metadata": {
        "id": "EO9tatVgD8I3",
        "colab_type": "code",
        "colab": {
          "base_uri": "https://localhost:8080/",
          "height": 51
        },
        "outputId": "56c5ca66-230e-42e0-9497-137959153d84"
      },
      "source": [
        "data = 'Mr John Smith       ,13   '\n",
        "pos = data.find(',')\n",
        "lenght = int(data[pos+1:])\n",
        "text = data[:pos]\n",
        "print(lenght)\n",
        "print(text)"
      ],
      "execution_count": 12,
      "outputs": [
        {
          "output_type": "stream",
          "text": [
            "13\n",
            "Mr John Smith       \n"
          ],
          "name": "stdout"
        }
      ]
    },
    {
      "cell_type": "code",
      "metadata": {
        "id": "Xew4yV8GE4Cs",
        "colab_type": "code",
        "colab": {
          "base_uri": "https://localhost:8080/",
          "height": 34
        },
        "outputId": "372b6842-6def-42fc-ed9c-3335a6aa42b9"
      },
      "source": [
        "ntext = str()\n",
        "for l in range(lenght):\n",
        "  if (text[l]==' '):\n",
        "    ntext+= '--'\n",
        "  else:\n",
        "    ntext+=text[l]\n",
        "\n",
        "print(ntext)"
      ],
      "execution_count": 13,
      "outputs": [
        {
          "output_type": "stream",
          "text": [
            "Mr--John--Smith\n"
          ],
          "name": "stdout"
        }
      ]
    }
  ]
}